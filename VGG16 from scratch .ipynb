{
  "nbformat": 4,
  "nbformat_minor": 0,
  "metadata": {
    "colab": {
      "provenance": []
    },
    "kernelspec": {
      "name": "python3",
      "display_name": "Python 3"
    },
    "language_info": {
      "name": "python"
    }
  },
  "cells": [
    {
      "cell_type": "code",
      "source": [
        "import tensorflow as tf\n",
        "import numpy as np\n",
        "from sklearn.metrics import confusion_matrix, precision_score, recall_score, f1_score\n",
        "from tensorflow.keras.utils import to_categorical\n",
        "from tensorflow.keras.models import Sequential\n",
        "from tensorflow.keras.layers import Conv2D, MaxPooling2D, Flatten, Dense\n",
        "from tensorflow.keras.datasets import mnist, fashion_mnist\n",
        "from tensorflow.keras import layers, models\n",
        "\n",
        "# Define VGG16 architecture for MNIST\n",
        "def vgg16():\n",
        "    model = Sequential()\n",
        "\n",
        "    # Block 1\n",
        "    model.add(Conv2D(64, (3, 3), activation='relu', padding='same', input_shape=(28, 28, 1)))\n",
        "    model.add(Conv2D(64, (3, 3), activation='relu', padding='same'))\n",
        "    model.add(MaxPooling2D((2, 2), strides=(2, 2)))\n",
        "\n",
        "    # Block 2\n",
        "    model.add(Conv2D(128, (3, 3), activation='relu', padding='same'))\n",
        "    model.add(Conv2D(128, (3, 3), activation='relu', padding='same'))\n",
        "    model.add(MaxPooling2D((2, 2), strides=(2, 2)))\n",
        "\n",
        "    # Block 3\n",
        "    model.add(Conv2D(256, (3, 3), activation='relu', padding='same'))\n",
        "    model.add(Conv2D(256, (3, 3), activation='relu', padding='same'))\n",
        "    model.add(Conv2D(256, (3, 3), activation='relu', padding='same'))\n",
        "    model.add(MaxPooling2D((2, 2), strides=(2, 2)))\n",
        "\n",
        "   # Block 4\n",
        "    model.add(Conv2D(512, (3, 3), activation='relu', padding='same'))\n",
        "    model.add(Conv2D(512, (3, 3), activation='relu', padding='same'))\n",
        "    model.add(Conv2D(512, (3, 3), activation='relu', padding='same'))\n",
        "    model.add(MaxPooling2D((2, 2), strides=(2, 2)))\n",
        "\n",
        "     # Block 5\n",
        "    model.add(Conv2D(512, (3, 3), activation='relu', padding='same'))\n",
        "    model.add(Conv2D(512, (3, 3), activation='relu', padding='same'))\n",
        "    model.add(Conv2D(512, (3, 3), activation='relu', padding='same'))\n",
        "   # model.add(MaxPooling2D((2, 2), strides=(2, 2)))\n",
        "\n",
        "\n",
        "    # Flatten and fully connected layers\n",
        "    model.add(Flatten())\n",
        "    model.add(Dense(4096, activation='relu'))\n",
        "    model.add(Dense(4096, activation='relu'))\n",
        "    model.add(Dense(10, activation='softmax'))  # Output layer with 10 units for 10 classes (digits 0-9)\n",
        "\n",
        "    return model\n",
        "\n",
        "# Create the VGG16 model for MNIST\n",
        "model = vgg16()\n",
        "\n",
        "# Display the model summary\n",
        "model.summary()\n"
      ],
      "metadata": {
        "colab": {
          "base_uri": "https://localhost:8080/"
        },
        "id": "iXrcrk4OM4qx",
        "outputId": "086c04ee-9a94-4bcb-e6d7-223084df72aa"
      },
      "execution_count": 21,
      "outputs": [
        {
          "output_type": "stream",
          "name": "stdout",
          "text": [
            "Model: \"sequential_15\"\n",
            "_________________________________________________________________\n",
            " Layer (type)                Output Shape              Param #   \n",
            "=================================================================\n",
            " conv2d_144 (Conv2D)         (None, 28, 28, 64)        640       \n",
            "                                                                 \n",
            " conv2d_145 (Conv2D)         (None, 28, 28, 64)        36928     \n",
            "                                                                 \n",
            " max_pooling2d_52 (MaxPooli  (None, 14, 14, 64)        0         \n",
            " ng2D)                                                           \n",
            "                                                                 \n",
            " conv2d_146 (Conv2D)         (None, 14, 14, 128)       73856     \n",
            "                                                                 \n",
            " conv2d_147 (Conv2D)         (None, 14, 14, 128)       147584    \n",
            "                                                                 \n",
            " max_pooling2d_53 (MaxPooli  (None, 7, 7, 128)         0         \n",
            " ng2D)                                                           \n",
            "                                                                 \n",
            " conv2d_148 (Conv2D)         (None, 7, 7, 256)         295168    \n",
            "                                                                 \n",
            " conv2d_149 (Conv2D)         (None, 7, 7, 256)         590080    \n",
            "                                                                 \n",
            " conv2d_150 (Conv2D)         (None, 7, 7, 256)         590080    \n",
            "                                                                 \n",
            " max_pooling2d_54 (MaxPooli  (None, 3, 3, 256)         0         \n",
            " ng2D)                                                           \n",
            "                                                                 \n",
            " conv2d_151 (Conv2D)         (None, 3, 3, 512)         1180160   \n",
            "                                                                 \n",
            " conv2d_152 (Conv2D)         (None, 3, 3, 512)         2359808   \n",
            "                                                                 \n",
            " conv2d_153 (Conv2D)         (None, 3, 3, 512)         2359808   \n",
            "                                                                 \n",
            " max_pooling2d_55 (MaxPooli  (None, 1, 1, 512)         0         \n",
            " ng2D)                                                           \n",
            "                                                                 \n",
            " conv2d_154 (Conv2D)         (None, 1, 1, 512)         2359808   \n",
            "                                                                 \n",
            " conv2d_155 (Conv2D)         (None, 1, 1, 512)         2359808   \n",
            "                                                                 \n",
            " conv2d_156 (Conv2D)         (None, 1, 1, 512)         2359808   \n",
            "                                                                 \n",
            " flatten_9 (Flatten)         (None, 512)               0         \n",
            "                                                                 \n",
            " dense_22 (Dense)            (None, 4096)              2101248   \n",
            "                                                                 \n",
            " dense_23 (Dense)            (None, 4096)              16781312  \n",
            "                                                                 \n",
            " dense_24 (Dense)            (None, 10)                40970     \n",
            "                                                                 \n",
            "=================================================================\n",
            "Total params: 33637066 (128.32 MB)\n",
            "Trainable params: 33637066 (128.32 MB)\n",
            "Non-trainable params: 0 (0.00 Byte)\n",
            "_________________________________________________________________\n"
          ]
        }
      ]
    },
    {
      "cell_type": "code",
      "source": [
        "# Load MNIST dataset\n",
        "(x_train_m, y_train_m), (x_test_m, y_test_m) = mnist.load_data()\n",
        "\n",
        "\n",
        "# Preprocess the data\n",
        "# Normalize pixel values to be between 0 and 1\n",
        "x_train_m= x_train_m / 255.0\n",
        "x_test_m = x_test_m / 255.0\n",
        "\n",
        "# Convert labels to categorical format\n",
        "y_train_m= to_categorical(y_train_m, 10)\n",
        "y_test_m = to_categorical(y_test_m, 10)\n",
        "\n",
        "# Compile and train the model\n",
        "model_m = vgg16()\n",
        "model_m.compile(loss='categorical_crossentropy', optimizer='adam', metrics=['accuracy'])\n",
        "model_m.fit(x_train_m, y_train_m, validation_data=(x_test_m, y_test_m), epochs=2, batch_size=200, verbose=True)\n"
      ],
      "metadata": {
        "colab": {
          "base_uri": "https://localhost:8080/"
        },
        "id": "ayiF-1NJ3BZV",
        "outputId": "2d0cd730-f478-4136-bf74-e689d501d8e4"
      },
      "execution_count": null,
      "outputs": [
        {
          "output_type": "stream",
          "name": "stdout",
          "text": [
            "Epoch 1/2\n",
            " 17/300 [>.............................] - ETA: 49:38 - loss: 2.3041 - accuracy: 0.0982"
          ]
        }
      ]
    },
    {
      "cell_type": "code",
      "source": [
        "# Evaluate the model on MNIST testing samples\n",
        "y_pred_m = model_m.predict(x_test_m)\n",
        "y_pred_classes_m = np.argmax(y_pred_m, axis=1)\n",
        "y_true_m = np.argmax(y_test_m, axis=1)\n",
        "\n",
        "# Compute confusion matrix, precision, recall, and F1 score\n",
        "confusion_m = confusion_matrix(y_true_m, y_pred_classes_m)\n",
        "precision_m = precision_score(y_true_m, y_pred_classes_m, average='weighted')\n",
        "recall_m = recall_score(y_true_m, y_pred_classes_m, average='weighted')\n",
        "f1_m = f1_score(y_true_m, y_pred_classes_m, average='weighted')\n",
        "\n",
        "print(\"Confusion Matrix (MNIST):\")\n",
        "print(confusion_m)\n",
        "print(f\"Precision (MNIST): {precision_m}\")\n",
        "print(f\"Recall (MNIST): {recall_m}\")\n",
        "print(f\"F1 Score (MNIST): {f1_m}\")"
      ],
      "metadata": {
        "colab": {
          "base_uri": "https://localhost:8080/"
        },
        "id": "Xc2Lq0ddeBsU",
        "outputId": "c2ef5680-71e1-4203-e11a-ea8b2ddff7df"
      },
      "execution_count": 18,
      "outputs": [
        {
          "output_type": "stream",
          "name": "stdout",
          "text": [
            "313/313 [==============================] - 51s 163ms/step\n",
            "Confusion Matrix (MNIST):\n",
            "[[ 979    0    0    0    0    0    0    1    0    0]\n",
            " [   0 1132    0    3    0    0    0    0    0    0]\n",
            " [   1    0 1031    0    0    0    0    0    0    0]\n",
            " [   0    0    1 1007    0    1    0    0    1    0]\n",
            " [   0    0    1    0  979    0    0    0    0    2]\n",
            " [   1    0    0    8    0  882    1    0    0    0]\n",
            " [   9    2    0    1    3    0  943    0    0    0]\n",
            " [   0    2    5    0    0    0    0 1020    0    1]\n",
            " [   3    0    1    3    0    0    0    0  966    1]\n",
            " [   1    0    1    0    7    0    0    2    1  997]]\n",
            "Precision (MNIST): 0.9936446872793713\n",
            "Recall (MNIST): 0.9936\n",
            "F1 Score (MNIST): 0.9936006348524965\n"
          ]
        }
      ]
    },
    {
      "cell_type": "code",
      "source": [],
      "metadata": {
        "id": "w_VQdqu4f0dr"
      },
      "execution_count": null,
      "outputs": []
    },
    {
      "cell_type": "code",
      "source": [
        "# Load Fashion MNIST dataset\n",
        "(x_train_f, y_train_f), (x_test_f, y_test_f) = fashion_mnist.load_data()\n",
        "\n",
        "# Preprocess the data\n",
        "# Normalize pixel values to be between 0 and 1\n",
        "x_train_f= x_train_f / 255.0\n",
        "x_test_f = x_test_f / 255.0\n",
        "\n",
        "# Convert labels to categorical format\n",
        "y_train_f= to_categorical(y_train_f, 10)\n",
        "y_test_f= to_categorical(y_test_f, 10)\n",
        "\n",
        "# Compile and train the model\n",
        "model_f = vgg16()\n",
        "model_f.compile(loss='categorical_crossentropy', optimizer='adam', metrics=['accuracy'])\n",
        "model_f.fit(x_train_f, y_train_f, validation_data=(x_test_f, y_test_f), epochs=2, batch_size=200, verbose=True)"
      ],
      "metadata": {
        "id": "Yf-kC5GHf0aW"
      },
      "execution_count": null,
      "outputs": []
    },
    {
      "cell_type": "code",
      "source": [
        "# Evaluate the model on Fashion MNIST testing samples\n",
        "y_pred_f = model_f.predict(x_test_f)\n",
        "y_pred_classes_f= np.argmax(y_pred_f, axis=1)\n",
        "y_true_f = np.argmax(y_test_f, axis=1)\n",
        "\n",
        "\n",
        "# Compute confusion matrix, precision, recall, and F1 score\n",
        "confusion_f= confusion_matrix(y_true_f, y_pred_classes_f)\n",
        "precision_f = precision_score(y_true_f y_pred_classes_f, average='weighted')\n",
        "recall_f = recall_score(y_true_f, y_pred_classes_f, average='weighted')\n",
        "f1_f = f1_score(y_true_f, y_pred_classes_f, average='weighted')\n",
        "\n",
        "print(\"(Fashion MNIST):\")\n",
        "print(\"Confusion Matrix :\")\n",
        "print(confusion_f)\n",
        "print(f\"Precision : {precision_f}\")\n",
        "print(f\"Recall : {recall_f}\")\n",
        "print(f\"F1 Score : {f1_f}\")"
      ],
      "metadata": {
        "id": "sYi2NG9_3JRd"
      },
      "execution_count": null,
      "outputs": []
    }
  ]
}